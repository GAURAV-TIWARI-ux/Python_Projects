{
 "cells": [
  {
   "cell_type": "code",
   "execution_count": 1,
   "metadata": {},
   "outputs": [
    {
     "name": "stdout",
     "output_type": "stream",
     "text": [
      "625\n",
      "169\n",
      "81\n",
      "49\n"
     ]
    }
   ],
   "source": [
    "# find the sum of all odd numbers from 1 to n using if condition inside the for loop.\n",
    "def add_odd(n):\n",
    "    add=0\n",
    "    for i in range(1,n+1):\n",
    "        if i%2!=0:\n",
    "            add=add+i\n",
    "    return add\n",
    "print(add_odd(50))\n",
    "print(add_odd(25))\n",
    "print(add_odd(17))\n",
    "print(add_odd(13))\n"
   ]
  }
 ],
 "metadata": {
  "kernelspec": {
   "display_name": "Python 3",
   "language": "python",
   "name": "python3"
  },
  "language_info": {
   "codemirror_mode": {
    "name": "ipython",
    "version": 3
   },
   "file_extension": ".py",
   "mimetype": "text/x-python",
   "name": "python",
   "nbconvert_exporter": "python",
   "pygments_lexer": "ipython3",
   "version": "3.12.5"
  }
 },
 "nbformat": 4,
 "nbformat_minor": 2
}
