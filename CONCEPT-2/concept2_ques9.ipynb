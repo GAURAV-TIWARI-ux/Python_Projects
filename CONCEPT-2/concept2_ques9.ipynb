{
 "cells": [
  {
   "cell_type": "code",
   "execution_count": null,
   "metadata": {},
   "outputs": [],
   "source": [
    "# Given a positive integer, return the number of digits in it.\n",
    "n=int(input(\"enter the number:\"))\n",
    "if n<0:\n",
    "    print('enter positive no.')\n",
    "m=str(n)\n",
    "count=0\n",
    "for i in m:\n",
    "    count=count+1\n",
    "print(\"the no. of digits in number are\",count)"
   ]
  }
 ],
 "metadata": {
  "kernelspec": {
   "display_name": "Python 3",
   "language": "python",
   "name": "python3"
  },
  "language_info": {
   "name": "python",
   "version": "3.12.5"
  }
 },
 "nbformat": 4,
 "nbformat_minor": 2
}
