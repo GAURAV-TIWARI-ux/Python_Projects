{
 "cells": [
  {
   "cell_type": "code",
   "execution_count": null,
   "metadata": {},
   "outputs": [],
   "source": [
    "# Write a function that takes n as input\n",
    "# and returns the sum of all numbers from 1 to n\n",
    "def calculate_sum(n):\n",
    "  total = 0\n",
    "  for i in range(1,n+1):\n",
    "    total=total+i\n",
    "  return total\n",
    "\n",
    "print(calculate_sum(7))\n",
    "print(calculate_sum(10))\n",
    "print(calculate_sum(8))\n",
    "print(calculate_sum(15))"
   ]
  }
 ],
 "metadata": {
  "language_info": {
   "name": "python"
  }
 },
 "nbformat": 4,
 "nbformat_minor": 2
}
