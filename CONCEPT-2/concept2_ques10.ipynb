{
 "cells": [
  {
   "cell_type": "code",
   "execution_count": 1,
   "metadata": {},
   "outputs": [
    {
     "name": "stdout",
     "output_type": "stream",
     "text": [
      "the no. of digits in number are 2\n"
     ]
    }
   ],
   "source": [
    "# Given a positive integer, return the even number of digits in it.\n",
    "n=int(input(\"enter the number:\"))\n",
    "if n<0:\n",
    "    print('enter positive no.')\n",
    "m=str(n)\n",
    "count=0\n",
    "for i in m:\n",
    "    if int(i)%2==0:\n",
    "        count=count+1\n",
    "print(\"the no. of digits in number are\",count)"
   ]
  }
 ],
 "metadata": {
  "kernelspec": {
   "display_name": "Python 3",
   "language": "python",
   "name": "python3"
  },
  "language_info": {
   "codemirror_mode": {
    "name": "ipython",
    "version": 3
   },
   "file_extension": ".py",
   "mimetype": "text/x-python",
   "name": "python",
   "nbconvert_exporter": "python",
   "pygments_lexer": "ipython3",
   "version": "3.12.5"
  }
 },
 "nbformat": 4,
 "nbformat_minor": 2
}
