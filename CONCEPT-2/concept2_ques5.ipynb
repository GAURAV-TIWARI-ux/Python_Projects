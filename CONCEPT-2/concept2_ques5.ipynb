{
 "cells": [
  {
   "cell_type": "code",
   "execution_count": 2,
   "metadata": {},
   "outputs": [
    {
     "name": "stdout",
     "output_type": "stream",
     "text": [
      "650\n",
      "56\n",
      "210\n",
      "2162\n"
     ]
    }
   ],
   "source": [
    "# find the sum of all even numbers from 2 to n using if condition inside the for loop.\n",
    "def add_even(n):\n",
    "    add=0\n",
    "    for i in range(2,n+1):\n",
    "        if i%2==0:\n",
    "            add=add+i\n",
    "    return add\n",
    "print(add_even(50))\n",
    "print(add_even(15))\n",
    "print(add_even(28))\n",
    "print(add_even(93))"
   ]
  }
 ],
 "metadata": {
  "kernelspec": {
   "display_name": "Python 3",
   "language": "python",
   "name": "python3"
  },
  "language_info": {
   "codemirror_mode": {
    "name": "ipython",
    "version": 3
   },
   "file_extension": ".py",
   "mimetype": "text/x-python",
   "name": "python",
   "nbconvert_exporter": "python",
   "pygments_lexer": "ipython3",
   "version": "3.12.5"
  }
 },
 "nbformat": 4,
 "nbformat_minor": 2
}
