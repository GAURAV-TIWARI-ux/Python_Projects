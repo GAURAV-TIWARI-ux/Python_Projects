{
 "cells": [
  {
   "cell_type": "code",
   "execution_count": 2,
   "metadata": {},
   "outputs": [
    {
     "name": "stdout",
     "output_type": "stream",
     "text": [
      "a is greater\n",
      "a is greater\n",
      "b is greater\n",
      "b is greater\n"
     ]
    }
   ],
   "source": [
    "def comp(a,b):\n",
    "    if a>b:\n",
    "        return 'a is greater'\n",
    "    else:\n",
    "        return 'b is greater'\n",
    "print(comp(8,6))\n",
    "print(comp(45,37))\n",
    "print(comp(104,196))\n",
    "print(comp(-8,-6))"
   ]
  }
 ],
 "metadata": {
  "kernelspec": {
   "display_name": "Python 3",
   "language": "python",
   "name": "python3"
  },
  "language_info": {
   "codemirror_mode": {
    "name": "ipython",
    "version": 3
   },
   "file_extension": ".py",
   "mimetype": "text/x-python",
   "name": "python",
   "nbconvert_exporter": "python",
   "pygments_lexer": "ipython3",
   "version": "3.12.5"
  }
 },
 "nbformat": 4,
 "nbformat_minor": 2
}
