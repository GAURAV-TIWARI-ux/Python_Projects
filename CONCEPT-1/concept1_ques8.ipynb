{
 "cells": [
  {
   "cell_type": "code",
   "execution_count": 2,
   "metadata": {},
   "outputs": [
    {
     "name": "stdout",
     "output_type": "stream",
     "text": [
      "[(-1.0, 0), (-1.0, 0)]\n",
      "[(-0.3, 1.1445523142259597), (-0.3, -1.1445523142259597)]\n",
      "[(-1.0, 0.5), (-1.0, -0.5)]\n",
      "[(-1.5, 0.28867513459481287), (-1.5, -0.28867513459481287)]\n",
      "[(-1.0, 1.7320508075688772), (-1.0, -1.7320508075688772)]\n"
     ]
    }
   ],
   "source": [
    "def quadratic_solutions(a, b, c):\n",
    "    discriminant = b**2 - 4*a*c\n",
    "    \n",
    "    if discriminant >= 0:\n",
    "        # For Real roots\n",
    "        root1 = (-b + discriminant**0.5) / (2 * a)\n",
    "        root2 = (-b - discriminant**0.5) / (2 * a)\n",
    "        return [(root1, 0), (root2, 0)]\n",
    "    else:\n",
    "        # For Complex roots\n",
    "        real_part = -b / (2 * a)\n",
    "        imaginary_part = (-discriminant)**0.5 / (2 * a)\n",
    "        return [(real_part, imaginary_part), (real_part, -imaginary_part)]\n",
    "\n",
    "\n",
    "print(quadratic_solutions(1, 2, 1)) \n",
    "print(quadratic_solutions(5, 3, 7))\n",
    "print(quadratic_solutions(4, 8, 5))\n",
    "print(quadratic_solutions(3, 9, 7))\n",
    "print(quadratic_solutions(1, 2, 4))"
   ]
  }
 ],
 "metadata": {
  "kernelspec": {
   "display_name": "Python 3",
   "language": "python",
   "name": "python3"
  },
  "language_info": {
   "codemirror_mode": {
    "name": "ipython",
    "version": 3
   },
   "file_extension": ".py",
   "mimetype": "text/x-python",
   "name": "python",
   "nbconvert_exporter": "python",
   "pygments_lexer": "ipython3",
   "version": "3.12.5"
  }
 },
 "nbformat": 4,
 "nbformat_minor": 2
}
