{
 "cells": [
  {
   "cell_type": "code",
   "execution_count": 20,
   "metadata": {},
   "outputs": [
    {
     "name": "stdout",
     "output_type": "stream",
     "text": [
      "1.6\n",
      "9.0\n",
      "None\n",
      "-4.0\n"
     ]
    }
   ],
   "source": [
    "def division(a,b):\n",
    "    if b==0:\n",
    "        return None\n",
    "    else:\n",
    "        return a/b\n",
    "print(division(8,5))\n",
    "print(division(45,5))\n",
    "print(division(12,0))\n",
    "print(division(20,-5))\n"
   ]
  }
 ],
 "metadata": {
  "kernelspec": {
   "display_name": "Python 3",
   "language": "python",
   "name": "python3"
  },
  "language_info": {
   "codemirror_mode": {
    "name": "ipython",
    "version": 3
   },
   "file_extension": ".py",
   "mimetype": "text/x-python",
   "name": "python",
   "nbconvert_exporter": "python",
   "pygments_lexer": "ipython3",
   "version": "3.12.5"
  }
 },
 "nbformat": 4,
 "nbformat_minor": 2
}
